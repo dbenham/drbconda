{
 "cells": [
  {
   "cell_type": "code",
   "execution_count": null,
   "id": "8fce17f4-da8d-467e-ade1-ab1d135e9604",
   "metadata": {},
   "outputs": [],
   "source": [
    "import subprocess\n",
    "import re\n",
    "\n",
    "# Get the output of pip freeze\n",
    "result = subprocess.run(['pip', 'freeze'], stdout=subprocess.PIPE)\n",
    "packages = result.stdout.decode('utf-8').split('\\n')\n",
    "\n",
    "# Regex to extract package name\n",
    "pattern = re.compile(r'^(?P<name>[a-zA-Z0-9-_]+) @ .+$')\n",
    "\n",
    "for package in packages:\n",
    "    match = pattern.match(package)\n",
    "    if match:\n",
    "        name = match.group('name')\n",
    "        # Get the version of each package\n",
    "        result = subprocess.run(['pip', 'show', name], stdout=subprocess.PIPE)\n",
    "        details = result.stdout.decode('utf-8').split('\\n')\n",
    "        version = None\n",
    "        for detail in details:\n",
    "            if detail.startswith('Version:'):\n",
    "                version = detail.split(' ')[1]\n",
    "                break\n",
    "        if version:\n",
    "            print(f\"{name}=={version}\")"
   ]
  }
 ],
 "metadata": {
  "kernelspec": {
   "display_name": "Python 3 (ipykernel)",
   "language": "python",
   "name": "python3"
  },
  "language_info": {
   "codemirror_mode": {
    "name": "ipython",
    "version": 3
   },
   "file_extension": ".py",
   "mimetype": "text/x-python",
   "name": "python",
   "nbconvert_exporter": "python",
   "pygments_lexer": "ipython3",
   "version": "3.11.9"
  }
 },
 "nbformat": 4,
 "nbformat_minor": 5
}
