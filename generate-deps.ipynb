import subprocess
import re

# Get the output of pip freeze
result = subprocess.run(['pip', 'freeze'], stdout=subprocess.PIPE)
packages = result.stdout.decode('utf-8').split('\n')

# Regex to extract package name
pattern = re.compile(r'^(?P<name>[a-zA-Z0-9-_]+) @ .+$')

for package in packages:
    match = pattern.match(package)
    if match:
        name = match.group('name')
        # Get the version of each package
        result = subprocess.run(['pip', 'show', name], stdout=subprocess.PIPE)
        details = result.stdout.decode('utf-8').split('\n')
        version = None
        for detail in details:
            if detail.startswith('Version:'):
                version = detail.split(' ')[1]
                break
        if version:
            print(f"{name}=={version}")
